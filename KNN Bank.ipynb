{
 "cells": [
  {
   "cell_type": "code",
   "execution_count": 11,
   "id": "2a61c13b-b69c-43af-839d-495282723251",
   "metadata": {},
   "outputs": [
    {
     "data": {
      "text/html": [
       "<div>\n",
       "<style scoped>\n",
       "    .dataframe tbody tr th:only-of-type {\n",
       "        vertical-align: middle;\n",
       "    }\n",
       "\n",
       "    .dataframe tbody tr th {\n",
       "        vertical-align: top;\n",
       "    }\n",
       "\n",
       "    .dataframe thead th {\n",
       "        text-align: right;\n",
       "    }\n",
       "</style>\n",
       "<table border=\"1\" class=\"dataframe\">\n",
       "  <thead>\n",
       "    <tr style=\"text-align: right;\">\n",
       "      <th></th>\n",
       "      <th>edad</th>\n",
       "      <th>credito</th>\n",
       "      <th>cumplio</th>\n",
       "    </tr>\n",
       "  </thead>\n",
       "  <tbody>\n",
       "    <tr>\n",
       "      <th>0</th>\n",
       "      <td>18</td>\n",
       "      <td>363112</td>\n",
       "      <td>0</td>\n",
       "    </tr>\n",
       "    <tr>\n",
       "      <th>1</th>\n",
       "      <td>19</td>\n",
       "      <td>477965</td>\n",
       "      <td>1</td>\n",
       "    </tr>\n",
       "    <tr>\n",
       "      <th>2</th>\n",
       "      <td>20</td>\n",
       "      <td>239072</td>\n",
       "      <td>0</td>\n",
       "    </tr>\n",
       "    <tr>\n",
       "      <th>3</th>\n",
       "      <td>22</td>\n",
       "      <td>195265</td>\n",
       "      <td>0</td>\n",
       "    </tr>\n",
       "    <tr>\n",
       "      <th>4</th>\n",
       "      <td>22</td>\n",
       "      <td>482174</td>\n",
       "      <td>0</td>\n",
       "    </tr>\n",
       "    <tr>\n",
       "      <th>...</th>\n",
       "      <td>...</td>\n",
       "      <td>...</td>\n",
       "      <td>...</td>\n",
       "    </tr>\n",
       "    <tr>\n",
       "      <th>195</th>\n",
       "      <td>55</td>\n",
       "      <td>100000</td>\n",
       "      <td>0</td>\n",
       "    </tr>\n",
       "    <tr>\n",
       "      <th>196</th>\n",
       "      <td>55</td>\n",
       "      <td>523144</td>\n",
       "      <td>0</td>\n",
       "    </tr>\n",
       "    <tr>\n",
       "      <th>197</th>\n",
       "      <td>55</td>\n",
       "      <td>543771</td>\n",
       "      <td>0</td>\n",
       "    </tr>\n",
       "    <tr>\n",
       "      <th>198</th>\n",
       "      <td>56</td>\n",
       "      <td>285288</td>\n",
       "      <td>0</td>\n",
       "    </tr>\n",
       "    <tr>\n",
       "      <th>199</th>\n",
       "      <td>57</td>\n",
       "      <td>422969</td>\n",
       "      <td>0</td>\n",
       "    </tr>\n",
       "  </tbody>\n",
       "</table>\n",
       "<p>200 rows × 3 columns</p>\n",
       "</div>"
      ],
      "text/plain": [
       "     edad  credito  cumplio\n",
       "0      18   363112        0\n",
       "1      19   477965        1\n",
       "2      20   239072        0\n",
       "3      22   195265        0\n",
       "4      22   482174        0\n",
       "..    ...      ...      ...\n",
       "195    55   100000        0\n",
       "196    55   523144        0\n",
       "197    55   543771        0\n",
       "198    56   285288        0\n",
       "199    57   422969        0\n",
       "\n",
       "[200 rows x 3 columns]"
      ]
     },
     "execution_count": 11,
     "metadata": {},
     "output_type": "execute_result"
    }
   ],
   "source": [
    "import pandas as pd\n",
    "import numpy as np\n",
    "import matplotlib.pyplot as plt\n",
    "from sklearn import preprocessing\n",
    "from sklearn.neighbors import KNeighborsClassifier\n",
    "from sklearn.preprocessing import MinMaxScaler\n",
    "clientes=pd.read_csv(\"creditos.csv\") #Llamamos al DF\n",
    "clientes#ejecutamos el DF"
   ]
  },
  {
   "cell_type": "markdown",
   "id": "7261af33-bde8-4346-b132-07c401943939",
   "metadata": {},
   "source": [
    "PAGADORES VS DEUDORES"
   ]
  },
  {
   "cell_type": "code",
   "execution_count": 12,
   "id": "aa59f0f3-16e9-471d-997d-edf553c14aec",
   "metadata": {},
   "outputs": [
    {
     "data": {
      "text/plain": [
       "(     edad  credito  cumplio\n",
       " 1      19   477965        1\n",
       " 6      23   583565        1\n",
       " 7      24   100000        1\n",
       " 8      24   199272        1\n",
       " 13     25   195341        1\n",
       " ..    ...      ...      ...\n",
       " 187    51   354045        1\n",
       " 188    51   379188        1\n",
       " 189    51   396544        1\n",
       " 190    52   100000        1\n",
       " 192    53   130475        1\n",
       " \n",
       " [167 rows x 3 columns],\n",
       "      edad  credito  cumplio\n",
       " 0      18   363112        0\n",
       " 2      20   239072        0\n",
       " 3      22   195265        0\n",
       " 4      22   482174        0\n",
       " 5      23   468815        0\n",
       " 9      24   246195        0\n",
       " 10     24   433444        0\n",
       " 11     25   100000        0\n",
       " 12     25   161474        0\n",
       " 40     28   432323        0\n",
       " 53     29   590394        0\n",
       " 54     29   595997        0\n",
       " 56     30   157157        0\n",
       " 64     31   173752        0\n",
       " 78     32   588455        0\n",
       " 93     35   521187        0\n",
       " 97     36   568053        0\n",
       " 98     37   299154        0\n",
       " 113    40   100000        0\n",
       " 118    40   459974        0\n",
       " 135    43   498315        0\n",
       " 146    44   486320        0\n",
       " 149    45   111178        0\n",
       " 160    46   596771        0\n",
       " 185    50   414624        0\n",
       " 191    52   341763        0\n",
       " 193    53   383222        0\n",
       " 194    54   275759        0\n",
       " 195    55   100000        0\n",
       " 196    55   523144        0\n",
       " 197    55   543771        0\n",
       " 198    56   285288        0\n",
       " 199    57   422969        0)"
      ]
     },
     "execution_count": 12,
     "metadata": {},
     "output_type": "execute_result"
    }
   ],
   "source": [
    "buenos=clientes[clientes[\"cumplio\"]==1] #creamos un filtro aplicado al DF en el cual el codigo 1 es igual a cumplio\n",
    "malos=clientes[clientes[\"cumplio\"]==0]#creamos un filtro para los deudores\n",
    "buenos,malos #mostramos la lista de los clientes buenos y malos"
   ]
  },
  {
   "cell_type": "markdown",
   "id": "62f3dada-e14f-4d53-b190-4216f27c6902",
   "metadata": {},
   "source": [
    "GRAFICA DE LOS PAGADORES VS DEUDORES"
   ]
  },
  {
   "cell_type": "code",
   "execution_count": 13,
   "id": "d062c4cb-e234-4cf5-b36b-6e5f6bcf9f8e",
   "metadata": {},
   "outputs": [
    {
     "data": {
      "image/png": "[encoded data removed]",
      "text/plain": [
       "<Figure size 432x288 with 1 Axes>"
      ]
     },
     "metadata": {
      "needs_background": "light"
     },
     "output_type": "display_data"
    }
   ],
   "source": [
    "plt.scatter(buenos[\"edad\"], buenos[\"credito\"], marker=\"*\" , s=150, color=\"skyblue\",label=\"Sí pagó (Clase: 1)\") #aqui graficamos los clientes buenos\n",
    "\n",
    "plt.scatter(malos[\"edad\"], malos[\"credito\"], marker=\"*\", s=150 , color=\"red\", label=\"No pago (Clase:0)\") #aqui graficamos lo clientes malos\n",
    "\n",
    "plt.ylabel(\"Monto del credito\")\n",
    "plt.xlabel(\"Edad\")\n",
    "plt.legend(bbox_to_anchor=(1,0.2))\n",
    "plt.show()\n"
   ]
  },
  {
   "cell_type": "markdown",
   "id": "d6ada6e5-6d29-4d30-a4c8-6cd27af58ad7",
   "metadata": {},
   "source": [
    "PREPARACION DE LOS DATOS (ESCALAR)\n",
    "PREPROCESAMIENTO"
   ]
  },
  {
   "cell_type": "code",
   "execution_count": 14,
   "id": "34f511f8-fbaa-4b51-b3b6-55849a5ba727",
   "metadata": {},
   "outputs": [
    {
     "data": {
      "text/plain": [
       "array([[0.        , 0.52964444],\n",
       "       [0.02564103, 0.76084353],\n",
       "       [0.05128205, 0.27995193],\n",
       "       [0.1025641 , 0.19176844],\n",
       "       [0.1025641 , 0.76931624],\n",
       "       [0.12820513, 0.74242458],\n",
       "       [0.12820513, 0.97341632],\n",
       "       [0.15384615, 0.        ],\n",
       "       [0.15384615, 0.19983453],\n",
       "       [0.15384615, 0.29429053],\n",
       "       [0.15384615, 0.67122276],\n",
       "       [0.17948718, 0.        ],\n",
       "       [0.17948718, 0.12374716],\n",
       "       [0.17948718, 0.19192143],\n",
       "       [0.17948718, 0.76130249],\n",
       "       [0.17948718, 0.79673129],\n",
       "       [0.20512821, 0.        ],\n",
       "       [0.20512821, 0.21862589],\n",
       "       [0.20512821, 0.33577846],\n",
       "       [0.20512821, 0.35571521],\n",
       "       [0.20512821, 0.38628463],\n",
       "       [0.20512821, 0.61926119],\n",
       "       [0.20512821, 0.69480706],\n",
       "       [0.23076923, 0.21664509],\n",
       "       [0.23076923, 0.23805134],\n",
       "       [0.23076923, 0.60140789],\n",
       "       [0.23076923, 0.90058196],\n",
       "       [0.25641026, 0.        ],\n",
       "       [0.25641026, 0.03816245],\n",
       "       [0.25641026, 0.03904616],\n",
       "       [0.25641026, 0.10798336],\n",
       "       [0.25641026, 0.17607107],\n",
       "       [0.25641026, 0.28867627],\n",
       "       [0.25641026, 0.32202564],\n",
       "       [0.25641026, 0.3484986 ],\n",
       "       [0.25641026, 0.35193882],\n",
       "       [0.25641026, 0.38080524],\n",
       "       [0.25641026, 0.42070089],\n",
       "       [0.25641026, 0.51803547],\n",
       "       [0.25641026, 0.65311582],\n",
       "       [0.25641026, 0.66896618],\n",
       "       [0.25641026, 0.67041756],\n",
       "       [0.25641026, 0.68417239],\n",
       "       [0.25641026, 0.7695256 ],\n",
       "       [0.25641026, 0.86175924],\n",
       "       [0.28205128, 0.        ],\n",
       "       [0.28205128, 0.        ],\n",
       "       [0.28205128, 0.23669256],\n",
       "       [0.28205128, 0.33414591],\n",
       "       [0.28205128, 0.41334538],\n",
       "       [0.28205128, 0.52864197],\n",
       "       [0.28205128, 0.56609383],\n",
       "       [0.28205128, 0.59165692],\n",
       "       [0.28205128, 0.9871631 ],\n",
       "       [0.28205128, 0.99844194],\n",
       "       [0.30769231, 0.10506249],\n",
       "       [0.30769231, 0.11505704],\n",
       "       [0.30769231, 0.23968187],\n",
       "       [0.30769231, 0.46505734],\n",
       "       [0.30769231, 0.5445809 ],\n",
       "       [0.30769231, 0.66118393],\n",
       "       [0.30769231, 0.67767643],\n",
       "       [0.33333333, 0.        ],\n",
       "       [0.33333333, 0.00144131],\n",
       "       [0.33333333, 0.14846277],\n",
       "       [0.33333333, 0.15601555],\n",
       "       [0.33333333, 0.41040238],\n",
       "       [0.33333333, 0.41226239],\n",
       "       [0.33333333, 0.58786242],\n",
       "       [0.33333333, 0.62965431],\n",
       "       [0.35897436, 0.        ],\n",
       "       [0.35897436, 0.13110669],\n",
       "       [0.35897436, 0.14760926],\n",
       "       [0.35897436, 0.1842056 ],\n",
       "       [0.35897436, 0.19186104],\n",
       "       [0.35897436, 0.26212078],\n",
       "       [0.35897436, 0.46707034],\n",
       "       [0.35897436, 0.49443909],\n",
       "       [0.35897436, 0.98325989],\n",
       "       [0.38461538, 0.00194858],\n",
       "       [0.38461538, 0.08159293],\n",
       "       [0.38461538, 0.18069291],\n",
       "       [0.38461538, 0.5175745 ],\n",
       "       [0.38461538, 0.6179004 ],\n",
       "       [0.41025641, 0.1938217 ],\n",
       "       [0.41025641, 0.31511099],\n",
       "       [0.41025641, 0.35138525],\n",
       "       [0.41025641, 0.51919899],\n",
       "       [0.41025641, 0.5375656 ],\n",
       "       [0.43589744, 0.        ],\n",
       "       [0.43589744, 0.1428928 ],\n",
       "       [0.43589744, 0.15645237],\n",
       "       [0.43589744, 0.40213901],\n",
       "       [0.43589744, 0.84784941],\n",
       "       [0.46153846, 0.        ],\n",
       "       [0.46153846, 0.01688706],\n",
       "       [0.46153846, 0.27926147],\n",
       "       [0.46153846, 0.94219067],\n",
       "       [0.48717949, 0.40089699],\n",
       "       [0.48717949, 0.58110477],\n",
       "       [0.51282051, 0.        ],\n",
       "       [0.51282051, 0.14469846],\n",
       "       [0.51282051, 0.15542171],\n",
       "       [0.51282051, 0.34177518],\n",
       "       [0.51282051, 0.36099531],\n",
       "       [0.51282051, 0.47841359],\n",
       "       [0.51282051, 0.76446894],\n",
       "       [0.53846154, 0.11912129],\n",
       "       [0.53846154, 0.13935999],\n",
       "       [0.53846154, 0.20150331],\n",
       "       [0.53846154, 0.41053926],\n",
       "       [0.53846154, 0.56211212],\n",
       "       [0.56410256, 0.        ],\n",
       "       [0.56410256, 0.        ],\n",
       "       [0.56410256, 0.06082279],\n",
       "       [0.56410256, 0.08730783],\n",
       "       [0.56410256, 0.4086088 ],\n",
       "       [0.56410256, 0.54189355],\n",
       "       [0.56410256, 0.72462765],\n",
       "       [0.58974359, 0.0233508 ],\n",
       "       [0.58974359, 0.02456061],\n",
       "       [0.58974359, 0.09865713],\n",
       "       [0.58974359, 0.25586236],\n",
       "       [0.58974359, 0.33618911],\n",
       "       [0.58974359, 0.58974054],\n",
       "       [0.61538462, 0.        ],\n",
       "       [0.61538462, 0.01820557],\n",
       "       [0.61538462, 0.04190865],\n",
       "       [0.61538462, 0.1276242 ],\n",
       "       [0.61538462, 0.5212603 ],\n",
       "       [0.61538462, 0.54850424],\n",
       "       [0.61538462, 0.84706032],\n",
       "       [0.61538462, 0.91333029],\n",
       "       [0.64102564, 0.55489954],\n",
       "       [0.64102564, 0.63549201],\n",
       "       [0.64102564, 0.80180808],\n",
       "       [0.66666667, 0.        ],\n",
       "       [0.66666667, 0.15576191],\n",
       "       [0.66666667, 0.18310248],\n",
       "       [0.66666667, 0.27592996],\n",
       "       [0.66666667, 0.3173736 ],\n",
       "       [0.66666667, 0.33859263],\n",
       "       [0.66666667, 0.34302123],\n",
       "       [0.66666667, 0.38686236],\n",
       "       [0.66666667, 0.42094849],\n",
       "       [0.66666667, 0.58263868],\n",
       "       [0.66666667, 0.77766214],\n",
       "       [0.69230769, 0.        ],\n",
       "       [0.69230769, 0.        ],\n",
       "       [0.69230769, 0.02250131],\n",
       "       [0.69230769, 0.11049357],\n",
       "       [0.69230769, 0.36288149],\n",
       "       [0.71794872, 0.04009292],\n",
       "       [0.71794872, 0.24613152],\n",
       "       [0.71794872, 0.36865477],\n",
       "       [0.71794872, 0.41930588],\n",
       "       [0.71794872, 0.6498447 ],\n",
       "       [0.71794872, 0.7260448 ],\n",
       "       [0.71794872, 0.74921443],\n",
       "       [0.71794872, 0.98495484],\n",
       "       [0.71794872, 1.        ],\n",
       "       [0.74358974, 0.09649718],\n",
       "       [0.74358974, 0.11829394],\n",
       "       [0.74358974, 0.27399144],\n",
       "       [0.74358974, 0.27564814],\n",
       "       [0.74358974, 0.30626385],\n",
       "       [0.74358974, 0.36214272],\n",
       "       [0.74358974, 0.36285129],\n",
       "       [0.74358974, 0.43263798],\n",
       "       [0.74358974, 0.89424101],\n",
       "       [0.76923077, 0.19786984],\n",
       "       [0.76923077, 0.34318026],\n",
       "       [0.76923077, 0.42691099],\n",
       "       [0.76923077, 0.64719358],\n",
       "       [0.79487179, 0.1878451 ],\n",
       "       [0.79487179, 0.28133687],\n",
       "       [0.79487179, 0.59716248],\n",
       "       [0.79487179, 0.61554922],\n",
       "       [0.79487179, 0.64292199],\n",
       "       [0.82051282, 0.        ],\n",
       "       [0.82051282, 0.06170247],\n",
       "       [0.82051282, 0.30497151],\n",
       "       [0.82051282, 0.46384753],\n",
       "       [0.82051282, 0.50160335],\n",
       "       [0.82051282, 0.63033671],\n",
       "       [0.82051282, 0.6333381 ],\n",
       "       [0.82051282, 0.68934982],\n",
       "       [0.84615385, 0.51139257],\n",
       "       [0.84615385, 0.56200543],\n",
       "       [0.84615385, 0.59694306],\n",
       "       [0.87179487, 0.        ],\n",
       "       [0.87179487, 0.48666891],\n",
       "       [0.8974359 , 0.06134617],\n",
       "       [0.8974359 , 0.57012587],\n",
       "       [0.92307692, 0.35380286],\n",
       "       [0.94871795, 0.        ],\n",
       "       [0.94871795, 0.85178885],\n",
       "       [0.94871795, 0.893311  ],\n",
       "       [0.97435897, 0.37298474],\n",
       "       [1.        , 0.65013658]])"
      ]
     },
     "execution_count": 14,
     "metadata": {},
     "output_type": "execute_result"
    }
   ],
   "source": [
    "datos=clientes[[\"edad\" , \"credito\"]] # separamos los datos a trabajar en este caso en el eje x va la edad y en el y el credito\n",
    "clase=clientes[\"cumplio\"] # la clase que nos va guiar para la creaccion del clasificador( modelo supervisado)\n",
    "\n",
    "escalador=preprocessing.MinMaxScaler() #este modulo preprocesador convierte los numeros mas pequeños en cero y los mas grandes 1\n",
    "datos=escalador.fit_transform(datos)#comando para que trabajemos con los datos de prueba\n",
    "datos"
   ]
  },
  {
   "cell_type": "markdown",
   "id": "3750a0dc-8e1a-46d5-8631-3e69e0487c22",
   "metadata": {},
   "source": [
    "CREACION DEL MODELO KNN"
   ]
  },
  {
   "cell_type": "markdown",
   "id": "70f4efbd-baa4-4927-82d0-1835a3d79725",
   "metadata": {},
   "source": [
    "Valor de K"
   ]
  },
  {
   "cell_type": "code",
   "execution_count": 15,
   "id": "31cd41a3-6ff4-4f49-b594-85b311e55417",
   "metadata": {},
   "outputs": [
    {
     "data": {
      "text/plain": [
       "KNeighborsClassifier(n_neighbors=3)"
      ]
     },
     "execution_count": 15,
     "metadata": {},
     "output_type": "execute_result"
    }
   ],
   "source": [
    "clasificador = KNeighborsClassifier(n_neighbors=3)#creacion de un objeto clasificador KNN\n",
    "#Normalmente la K se obtiene por medio de experimentacion o la raiz cuadrada del numero de instancias(ej 200)\n",
    "\n",
    "clasificador.fit(datos, clase)#metodo para crear nuestro modelo clasificador , los datos son la edad y el monto\n",
    "#con el metodo fit creamos el modelo"
   ]
  },
  {
   "cell_type": "markdown",
   "id": "26ad2213-0133-4d73-b114-0fdb50a4956a",
   "metadata": {},
   "source": [
    "NUEVO SOLICITANTE (CLASIFICACION)"
   ]
  },
  {
   "cell_type": "code",
   "execution_count": 16,
   "id": "6f9aa856-36b1-416b-b9a6-a5d008bde101",
   "metadata": {
    "tags": []
   },
   "outputs": [
    {
     "name": "stderr",
     "output_type": "stream",
     "text": [
      "C:\\Users\\guz_g\\anaconda3\\lib\\site-packages\\sklearn\\base.py:450: UserWarning: X does not have valid feature names, but MinMaxScaler was fitted with feature names\n",
      "  warnings.warn(\n"
     ]
    },
    {
     "name": "stdout",
     "output_type": "stream",
     "text": [
      "Clase: [0]\n",
      "Probabilidades por clase [[0.66666667 0.33333333]]\n"
     ]
    },
    {
     "data": {
      "image/png": "[encoded data removed]",
      "text/plain": [
       "<Figure size 432x288 with 1 Axes>"
      ]
     },
     "metadata": {
      "needs_background": "light"
     },
     "output_type": "display_data"
    }
   ],
   "source": [
    "edad = 53\n",
    "monto = 350000\n",
    "\n",
    "#Escalar los datos del nuevo solicitante\n",
    "solicitante = escalador.transform([[edad, monto]]) #creamos una variable para escalar los datos\n",
    "\n",
    "#Calcular clase y probabilidades\n",
    "print(\"Clase:\", clasificador.predict(solicitante))\n",
    "print(\"Probabilidades por clase\",clasificador.predict_proba(solicitante)) #me dira la probabilidad de que pague 1-2, 2-3, etc\n",
    "\n",
    "#Código para graficar\n",
    "plt.scatter(buenos[\"edad\"], buenos[\"credito\"],\n",
    "            marker=\"*\", s=150, color=\"skyblue\", label=\"Sí pagó (Clase: 1)\")\n",
    "plt.scatter(malos[\"edad\"], malos[\"credito\"],\n",
    "            marker=\"*\", s=150, color=\"red\", label=\"No pagó (Clase: 0)\")\n",
    "plt.scatter(edad, monto, marker=\"P\", s=250, color=\"green\", label=\"Solicitante\") \n",
    "plt.ylabel(\"Monto del crédito\")\n",
    "plt.xlabel(\"Edad\")\n",
    "plt.legend(bbox_to_anchor=(1, 0.3))\n",
    "plt.show()"
   ]
  },
  {
   "cell_type": "code",
   "execution_count": null,
   "id": "708875a7-7329-4538-b024-949fc26c0fb5",
   "metadata": {},
   "outputs": [],
   "source": []
  }
 ],
 "metadata": {
  "kernelspec": {
   "display_name": "Python 3 (ipykernel)",
   "language": "python",
   "name": "python3"
  },
  "language_info": {
   "codemirror_mode": {
    "name": "ipython",
    "version": 3
   },
   "file_extension": ".py",
   "mimetype": "text/x-python",
   "name": "python",
   "nbconvert_exporter": "python",
   "pygments_lexer": "ipython3",
   "version": "3.9.12"
  }
 },
 "nbformat": 4,
 "nbformat_minor": 5
}
